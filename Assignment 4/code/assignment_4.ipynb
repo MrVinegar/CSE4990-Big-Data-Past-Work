{
 "cells": [
  {
   "cell_type": "code",
   "execution_count": 1,
   "metadata": {
    "collapsed": true
   },
   "outputs": [],
   "source": [
    "import requests\n",
    "import json"
   ]
  },
  {
   "cell_type": "markdown",
   "metadata": {},
   "source": [
    "#### 1. Stream GitHub Events and Store in a File\n",
    "\n",
    "url = https://api.github.com/events\n"
   ]
  },
  {
   "cell_type": "code",
   "execution_count": 2,
   "metadata": {
    "collapsed": false
   },
   "outputs": [],
   "source": [
    "r = requests.get('https://api.github.com/events', stream=True)\n",
    "with open('git_output.raw', 'wb') as fd:\n",
    "    for chunk in r.iter_content(chunk_size=10):\n",
    "        fd.write(chunk)"
   ]
  },
  {
   "cell_type": "markdown",
   "metadata": {},
   "source": [
    "#### 2. Get Twitter Trends\n",
    "Get the twitter trends with parameter world_id(id=1) and us_id (id=23424977), and print the name of the trends"
   ]
  },
  {
   "cell_type": "markdown",
   "metadata": {},
   "source": [
    "##### Twitter API Access\n",
    "\n",
    "Twitter implements OAuth 1.0A as its standard authentication mechanism, and in order to use it to make requests to Twitter's API, you'll need to go to https://dev.twitter.com/apps and create a sample application. There are four primary identifiers you'll need to note for an OAuth 1.0A workflow: consumer key, consumer secret, access token, and access token secret. Note that you will need an ordinary Twitter account in order to login, create an app, and get these credentials.\n",
    "\n",
    "![Twitter API Credentials](twitter_api.png)\n",
    "\n",
    "Get Trends of a place\n",
    "API documentation of Twitter: https://dev.twitter.com/rest/public"
   ]
  },
  {
   "cell_type": "code",
   "execution_count": 1,
   "metadata": {
    "collapsed": false
   },
   "outputs": [],
   "source": [
    "import requests\n",
    "from requests_oauthlib import OAuth1\n",
    "from Tokens import *"
   ]
  },
  {
   "cell_type": "code",
   "execution_count": 2,
   "metadata": {
    "collapsed": false
   },
   "outputs": [
    {
     "data": {
      "text/plain": [
       "<Response [200]>"
      ]
     },
     "execution_count": 2,
     "metadata": {},
     "output_type": "execute_result"
    }
   ],
   "source": [
    "url = 'https://api.twitter.com/1.1/account/verify_credentials.json'\n",
    "auth = OAuth1(CONSUMER_KEY, CONSUMER_SECRET,\n",
    "                 ACCESS_TOKEN, ACCESS_SECRET)\n",
    "\n",
    "requests.get(url, auth=auth)"
   ]
  },
  {
   "cell_type": "markdown",
   "metadata": {
    "collapsed": true
   },
   "source": [
    "Use requests get with params to create a request and get the text for worldwide and us trend"
   ]
  },
  {
   "cell_type": "code",
   "execution_count": 3,
   "metadata": {
    "collapsed": true
   },
   "outputs": [],
   "source": [
    "url = 'https://api.twitter.com/1.1/trends/place.json'\n",
    "us_payload = {'id':'1'}\n",
    "u_payload = {'id':'23424977'}\n",
    "r_us = requests.get(url, params=us_payload, auth=auth)\n",
    "r_u = requests.get(url, params=u_payload, auth=auth)"
   ]
  },
  {
   "cell_type": "markdown",
   "metadata": {
    "collapsed": false
   },
   "source": [
    "Convert to json and display ```name``` key"
   ]
  },
  {
   "cell_type": "code",
   "execution_count": 22,
   "metadata": {
    "collapsed": false
   },
   "outputs": [
    {
     "name": "stdout",
     "output_type": "stream",
     "text": [
      "#MadeInTheAM\n",
      "Lewandowski\n",
      "#applemusicfestival\n",
      "#AskJacks\n",
      "#اكثر_واحد_يدق_عليك\n",
      "#NoEstoyPara\n",
      "Neuer\n",
      "Azealia Banks\n",
      "Eva Carneiro\n",
      "Booba\n",
      "\n",
      "\n",
      "#MadeInTheAM\n",
      "#PopeInDC\n",
      "#AskJacks\n",
      "Black Panther\n",
      "Azealia Banks\n",
      "#CelebrateNVRD\n",
      "#ScareAPatientIn3Words\n",
      "Lewandowski\n",
      "Brian Williams\n",
      "Sean Penn\n"
     ]
    }
   ],
   "source": [
    "import json\n",
    "results = json.loads(r_us.text)\n",
    "for i in results[0]['trends']:\n",
    "    print i['name']\n",
    "print '\\n'\n",
    "\n",
    "results = json.loads(r_u.text)\n",
    "for i in results[0]['trends']:\n",
    "    print i['name']"
   ]
  },
  {
   "cell_type": "markdown",
   "metadata": {},
   "source": [
    "#### Facebook Graph Explorer\n",
    "\n",
    "Get your posts in facebook using the graph api of facebook.\n",
    "\n",
    "Login to your Facebook account and go to https://developers.facebook.com/tools/explorer/ to obtain and set permissions for an access token that you will need to define in the ACCESS_TOKEN variable below.\n",
    "\n",
    "the parameters in the get request is ```fields='posts'``` and the url is https://graph.facebook.com/me"
   ]
  },
  {
   "cell_type": "code",
   "execution_count": 42,
   "metadata": {
    "collapsed": false
   },
   "outputs": [
    {
     "name": "stdout",
     "output_type": "stream",
     "text": [
      "{u'created_time': u'2015-09-21T15:44:10+0000', u'message': u'Weekday lunch specials- 9/21 to 9/25', u'id': u'268443869848998_1190918570934852'}\n",
      "{u'created_time': u'2015-07-04T18:15:46+0000', u'message': u'Happy 4th of July!  We have St. Louis Cut Ribs, Pulled Pork and All the Trimmings for today, also with regular menu items!', u'id': u'268443869848998_1142815229078520'}\n",
      "{u'created_time': u'2015-05-09T21:26:32+0000', u'message': u\"Treat Mom to a lunch (or dinner) for Mother's Day at Scrooge's!  We'll  be open at 10:30!\", u'id': u'268443869848998_1102558183104225'}\n",
      "{u'created_time': u'2015-05-02T16:12:49+0000', u'message': u\"Scrooge's 10th Annual Kentucky Derby Party starts at 2:00pm this afternoon!  We'll have games, prizes, food and $2 Rolling Rock all day!!!  Wear your hat and have a blast!\", u'story': u\"Scrooge's Restaurant & Pub shared their post.\", u'id': u'268443869848998_1098976563462387'}\n",
      "{u'created_time': u'2015-04-29T20:33:41+0000', u'message': u\"Scrooge's 10th Annual Kentucky Derby Party....\\nStarting Gate Party Time 2:00pm, Saturday May 2, 2015.\\nGames, prizes, food, drinks and more.\\nWear your hat and have a blast!\", u'id': u'268443869848998_1097625186930858'}\n",
      "{u'created_time': u'2015-04-27T02:39:03+0000', u'message': u\"It's the 10th Annual Kentucky Derby Party at Scrooge's this Saturday, May 2nd, starting at 2pm!!! Come up for games, a hat contest, Mint Juleps, and $2 Rolling Rock all day!!!\", u'id': u'268443869848998_1095970463762997'}\n",
      "{u'created_time': u'2015-04-05T02:09:47+0000', u'message': u'Join us for Easter lunch (or dinner) this Sunday!  We will be open from 11am to 11pm with Easter Specials and the regular menu.', u'id': u'268443869848998_1082732531753457'}\n",
      "{u'created_time': u'2015-02-06T00:44:39+0000', u'message': u\"LOVE is in the air!  Please come join us next Friday at 6:30pm to benefit Friends of Children's Hospital!  Please call 601-922-7489 ext 210 to reserve your place.\", u'id': u'268443869848998_1045299588830085'}\n",
      "{u'created_time': u'2015-01-29T05:41:15+0000', u'message': u\"Come take advantage of the nice weather at Scrooge's!!! Richard McCain will be playing on the patio on Thursday (1/29) from 5:30-8:30!!!\", u'id': u'268443869848998_1040769052616472'}\n",
      "{u'created_time': u'2014-12-31T21:24:39+0000', u'story': u\"Scrooge's Restaurant & Pub added a new photo.\", u'id': u'268443869848998_1020982857928425'}\n"
     ]
    }
   ],
   "source": [
    "import requests # pip install requests\n",
    "import json\n",
    "\n",
    "ACCESS_TOKEN='CAAJhT4fdDhcBAPrvEL3ZAz052NKmZBWYf8e2fh9S82DLx2tpgA8CB7mMhKZCaQDJezMtOdZCtu1xcRNE75Kzg8fDpmWJ4SDeD6oejHoctWtnlQIGZBpXl5Uc09niwhiR6ZBEFBbIzaVVZA9nPIw8yZCBgFAE70RZCz4nq3ttJb5KIlyiin0ATq4XFXiZAjIHS47Q4ZBG17juofYBkXggZBWhsP9ZB'\n",
    "\n",
    "base_url = 'https://graph.facebook.com/v2.4/ScroogesJackson/posts'\n",
    "\n",
    "fields = 'limit=10&access_token='+ACCESS_TOKEN\n",
    "\n",
    "facebook_request = requests.get(base_url, params=fields, auth=auth)\n",
    "\n",
    "fb_results = json.loads(facebook_request.text)\n",
    "for i in fb_results['data']:\n",
    "    print i"
   ]
  },
  {
   "cell_type": "code",
   "execution_count": null,
   "metadata": {
    "collapsed": true
   },
   "outputs": [],
   "source": []
  }
 ],
 "metadata": {
  "kernelspec": {
   "display_name": "Python 2",
   "language": "python",
   "name": "python2"
  },
  "language_info": {
   "codemirror_mode": {
    "name": "ipython",
    "version": 2
   },
   "file_extension": ".py",
   "mimetype": "text/x-python",
   "name": "python",
   "nbconvert_exporter": "python",
   "pygments_lexer": "ipython2",
   "version": "2.7.6"
  }
 },
 "nbformat": 4,
 "nbformat_minor": 0
}
