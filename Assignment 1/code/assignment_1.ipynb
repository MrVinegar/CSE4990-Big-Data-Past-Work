{
 "cells": [
  {
   "cell_type": "markdown",
   "metadata": {},
   "source": [
    "**STEP 1:** Read the student file"
   ]
  },
  {
   "cell_type": "markdown",
   "metadata": {},
   "source": [
    "**STEP 2:** Parse to a data structure"
   ]
  },
  {
   "cell_type": "markdown",
   "metadata": {},
   "source": [
    "**STEP 3:** Randomize the datastructure or choose random elements of the datastructure for your team sets. Create a variable for team_size or number_of_teams"
   ]
  },
  {
   "cell_type": "code",
   "execution_count": 2,
   "metadata": {
    "collapsed": false
   },
   "outputs": [],
   "source": [
    "import random\n",
    "\n",
    "num_teams = 3\n",
    "team_list = [[] for i in range(num_teams)]\n",
    "\n",
    "ignore = True\n",
    "with open('../data/students.tsv','rb') as stud_file:\n",
    "    for line in stud_file:\n",
    "        if ignore: #Ignore the [Name, Hash ID] line\n",
    "            ignore = False\n",
    "            continue\n",
    "        line_split = line.split('\\t')\n",
    "        line_split[1] = line_split[1][0:len(line_split[1])-1] #Remove the \\n on the hash\n",
    "        i = random.randint(0,num_teams-1)\n",
    "        while(len(team_list[i]) > (20 / num_teams)): #We knows there's 20 students, so we use that\n",
    "             i = random.randint(0,num_teams-1)\n",
    "        team_list[i].append(line_split)"
   ]
  },
  {
   "cell_type": "markdown",
   "metadata": {},
   "source": [
    "**STEP 4:** Print out the teams."
   ]
  },
  {
   "cell_type": "code",
   "execution_count": 17,
   "metadata": {
    "collapsed": false
   },
   "outputs": [
    {
     "name": "stdout",
     "output_type": "stream",
     "text": [
      "Team  1\n",
      "Carter, William Wheeler 3802692595415542378\n",
      "Aryal, Ayush Raj -3475667787048397298\n",
      "Borse, Manish Rajendra -2033438892705105942\n",
      "Bushra, Naila  8990474763354512487\n",
      "Gautam, Deepak  -6012266244709306987\n",
      "Miller, Cody Alan 5943842258357201001\n",
      "Sween, Daniel John 2648846170173518257\n",
      "Team  2\n",
      "Andrade Ribeiro, Lucas  -8244047909817769125\n",
      "Childers, Jacob Dalton -886484131408840173\n",
      "Clark, Taylor Forrest 907296488986151916\n",
      "Nichols, Michael S 3523903377713238225\n",
      "Gibson, Sandra Lee 8075360464225835586\n",
      "Matin, Neil  7990469763352512495\n",
      "Team  3\n",
      "Gupta, Shreya  -1891500691712097823\n",
      "Karri, Veera Venkata S. R. 4334084250745981310\n",
      "Rosetti, Nicholas Clark -8456191309941038534\n",
      "Sutar, Siddhant A. -5234176481919168936\n",
      "Tomar, Abhimanyu  3187674564603368163\n",
      "Adhikari, Naresh -6456136309672038257\n",
      "Blaylock, Kendall James -1263821221294490948\n"
     ]
    }
   ],
   "source": [
    "for x in range(len(team_list)):\n",
    "    print 'Team ', x+1\n",
    "    for y in range(len(team_list[x])):\n",
    "        print team_list[x][y][0], team_list[x][y][1]"
   ]
  },
  {
   "cell_type": "code",
   "execution_count": null,
   "metadata": {
    "collapsed": true
   },
   "outputs": [],
   "source": []
  }
 ],
 "metadata": {
  "kernelspec": {
   "display_name": "Python 2",
   "language": "python",
   "name": "python2"
  },
  "language_info": {
   "codemirror_mode": {
    "name": "ipython",
    "version": 2
   },
   "file_extension": ".py",
   "mimetype": "text/x-python",
   "name": "python",
   "nbconvert_exporter": "python",
   "pygments_lexer": "ipython2",
   "version": "2.7.6"
  }
 },
 "nbformat": 4,
 "nbformat_minor": 0
}
