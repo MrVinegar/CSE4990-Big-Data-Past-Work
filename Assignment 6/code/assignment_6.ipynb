{
 "cells": [
  {
   "cell_type": "markdown",
   "metadata": {},
   "source": [
    "### William Carter - wwc77"
   ]
  },
  {
   "cell_type": "markdown",
   "metadata": {},
   "source": [
    "#### Network analysis of Big Data Tweeters\n",
    "\n",
    "In the data folder, there is a csv with json dump strings of tweets which where filtered on 'Big Data' and 'Data Science'. You have to analyze the network relationship of users who have tweeted in the dataset.\n",
    "\n",
    "1. Create a graph with with mentions\n",
    "2. Print the number of nodes and number of edges\n",
    "3. Visualize using Gephi\n",
    "\n",
    "\n",
    "Hint:\n",
    "* Use pandas to read csv\n",
    "* Convert rows to json\n",
    "* Look at the mentions field in the data to create relationships\n",
    "* Use weights for edges (is the number of mentions of a user pair is more than once) and nodes (is a person has been mentioned more than once or has tweeted more than once) \n",
    "* Output a graphml file to be used with gephi\n",
    "* Use gephi and OpenORD (https://marketplace.gephi.org/plugin/openord-layout/) to visualize"
   ]
  },
  {
   "cell_type": "markdown",
   "metadata": {},
   "source": [
    "***Import Pandas, NetworkX, and the JSON modules***"
   ]
  },
  {
   "cell_type": "code",
   "execution_count": 1,
   "metadata": {
    "collapsed": false
   },
   "outputs": [],
   "source": [
    "import pandas as pd\n",
    "import networkx as nx\n",
    "import json"
   ]
  },
  {
   "cell_type": "markdown",
   "metadata": {},
   "source": [
    "***Read in the tweet data***"
   ]
  },
  {
   "cell_type": "code",
   "execution_count": 2,
   "metadata": {
    "collapsed": false
   },
   "outputs": [
    {
     "data": {
      "text/html": [
       "<div>\n",
       "<table border=\"1\" class=\"dataframe\">\n",
       "  <thead>\n",
       "    <tr style=\"text-align: right;\">\n",
       "      <th></th>\n",
       "      <th>Raw Tweet</th>\n",
       "    </tr>\n",
       "  </thead>\n",
       "  <tbody>\n",
       "    <tr>\n",
       "      <th>0</th>\n",
       "      <td>{\"body\": \"RT @NuWareCo: Big Data: The Amazing ...</td>\n",
       "    </tr>\n",
       "    <tr>\n",
       "      <th>1</th>\n",
       "      <td>{\"body\": \"RT @vamsecret: Vote for Innovative B...</td>\n",
       "    </tr>\n",
       "    <tr>\n",
       "      <th>2</th>\n",
       "      <td>{\"body\": \"Vote for Innovative BigData Panel @ ...</td>\n",
       "    </tr>\n",
       "    <tr>\n",
       "      <th>3</th>\n",
       "      <td>{\"body\": \"Vote for Innovative BigData Panel @ ...</td>\n",
       "    </tr>\n",
       "    <tr>\n",
       "      <th>4</th>\n",
       "      <td>{\"body\": \"RT @wesustainearth: RT StackMean: RT...</td>\n",
       "    </tr>\n",
       "  </tbody>\n",
       "</table>\n",
       "</div>"
      ],
      "text/plain": [
       "                                           Raw Tweet\n",
       "0  {\"body\": \"RT @NuWareCo: Big Data: The Amazing ...\n",
       "1  {\"body\": \"RT @vamsecret: Vote for Innovative B...\n",
       "2  {\"body\": \"Vote for Innovative BigData Panel @ ...\n",
       "3  {\"body\": \"Vote for Innovative BigData Panel @ ...\n",
       "4  {\"body\": \"RT @wesustainearth: RT StackMean: RT..."
      ]
     },
     "execution_count": 2,
     "metadata": {},
     "output_type": "execute_result"
    }
   ],
   "source": [
    "tweets = pd.read_csv(\"../data/big_data.csv\")\n",
    "tweets.head()"
   ]
  },
  {
   "cell_type": "markdown",
   "metadata": {},
   "source": [
    "***Create our graph object***"
   ]
  },
  {
   "cell_type": "code",
   "execution_count": 31,
   "metadata": {
    "collapsed": true
   },
   "outputs": [],
   "source": [
    "g = nx.Graph()"
   ]
  },
  {
   "cell_type": "markdown",
   "metadata": {},
   "source": [
    "***Generate our nodes and weighted edges***"
   ]
  },
  {
   "cell_type": "code",
   "execution_count": 38,
   "metadata": {
    "collapsed": false
   },
   "outputs": [],
   "source": [
    "for i in tweets['Raw Tweet']:\n",
    "    tweet_json = json.loads(i)\n",
    "    user = tweet_json['generator']['displayName']\n",
    "    for mentioned in tweet_json['twitter_entities']['user_mentions']:\n",
    "        g.add_nodes_from([user], mentioned=mentioned['screen_name'])\n",
    "        if g[user][mentioned['screen_name']]['weight'] >= 1:\n",
    "            g[user][mentioned['screen_name']]['weight'] += 1\n",
    "        else:\n",
    "            g.add_edges_from([(user,mentioned['screen_name'])], weight=1)\n",
    "        "
   ]
  },
  {
   "cell_type": "markdown",
   "metadata": {},
   "source": [
    "***Show the number of nodes***"
   ]
  },
  {
   "cell_type": "code",
   "execution_count": 41,
   "metadata": {
    "collapsed": false
   },
   "outputs": [
    {
     "data": {
      "text/plain": [
       "2646"
      ]
     },
     "execution_count": 41,
     "metadata": {},
     "output_type": "execute_result"
    }
   ],
   "source": [
    "nx.number_of_nodes(g)"
   ]
  },
  {
   "cell_type": "markdown",
   "metadata": {},
   "source": [
    "***Show the number of edges***"
   ]
  },
  {
   "cell_type": "code",
   "execution_count": 42,
   "metadata": {
    "collapsed": false
   },
   "outputs": [
    {
     "data": {
      "text/plain": [
       "4689"
      ]
     },
     "execution_count": 42,
     "metadata": {},
     "output_type": "execute_result"
    }
   ],
   "source": [
    "nx.number_of_edges(g)"
   ]
  },
  {
   "cell_type": "markdown",
   "metadata": {
    "collapsed": true
   },
   "source": [
    "*** Generate GraphML file ***"
   ]
  },
  {
   "cell_type": "code",
   "execution_count": 40,
   "metadata": {
    "collapsed": true
   },
   "outputs": [],
   "source": [
    "nx.write_graphml(g, 'tweetgraph.graphml')"
   ]
  }
 ],
 "metadata": {
  "kernelspec": {
   "display_name": "Python 2",
   "language": "python",
   "name": "python2"
  },
  "language_info": {
   "codemirror_mode": {
    "name": "ipython",
    "version": 2
   },
   "file_extension": ".py",
   "mimetype": "text/x-python",
   "name": "python",
   "nbconvert_exporter": "python",
   "pygments_lexer": "ipython2",
   "version": "2.7.6"
  }
 },
 "nbformat": 4,
 "nbformat_minor": 0
}
